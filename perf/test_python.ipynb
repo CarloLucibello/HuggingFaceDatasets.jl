{
 "cells": [
  {
   "cell_type": "code",
   "execution_count": 1,
   "metadata": {},
   "outputs": [
    {
     "name": "stderr",
     "output_type": "stream",
     "text": [
      "/home/carlo/miniconda3/envs/dlcourse/lib/python3.9/site-packages/tqdm/auto.py:22: TqdmWarning: IProgress not found. Please update jupyter and ipywidgets. See https://ipywidgets.readthedocs.io/en/stable/user_install.html\n",
      "  from .autonotebook import tqdm as notebook_tqdm\n",
      "Downloading builder script: 3.98kB [00:00, 493kB/s]                    \n",
      "Downloading metadata: 2.21kB [00:00, 334kB/s]                    \n",
      "Reusing dataset mnist (/home/carlo/.cache/huggingface/datasets/mnist/mnist/1.0.0/fda16c03c4ecfb13f165ba7e29cf38129ce035011519968cdaf74894ce91c9d4)\n"
     ]
    },
    {
     "name": "stdout",
     "output_type": "stream",
     "text": [
      "1.52 s ± 178 ms per loop (mean ± std. dev. of 7 runs, 1 loop each)\n",
      "114 ms ± 3.16 ms per loop (mean ± std. dev. of 7 runs, 10 loops each)\n"
     ]
    }
   ],
   "source": [
    "import torchvision\n",
    "import datasets\n",
    "\n",
    "mnist_hf = datasets.load_dataset(\"mnist\", split=\"train\", keep_in_memory=True)\n",
    "mnist_tv = torchvision.datasets.MNIST(\"~/home\", train=True, download=True)\n",
    "\n",
    "def f(data):\n",
    "    for ids in range(6000):\n",
    "        data[ids]\n",
    "\n",
    "%timeit f(mnist_hf)\n",
    "%timeit f(mnist_tv)\n"
   ]
  },
  {
   "cell_type": "code",
   "execution_count": 2,
   "metadata": {},
   "outputs": [
    {
     "data": {
      "text/plain": [
       "[]"
      ]
     },
     "execution_count": 2,
     "metadata": {},
     "output_type": "execute_result"
    }
   ],
   "source": [
    "mnist_hf.cache_files"
   ]
  }
 ],
 "metadata": {
  "interpreter": {
   "hash": "fe00e9ea55ea18b1fa73aed605020d4df55facb58d876c8432e4124bc874659e"
  },
  "kernelspec": {
   "display_name": "Python 3.9.12 ('dlcourse')",
   "language": "python",
   "name": "python3"
  },
  "language_info": {
   "codemirror_mode": {
    "name": "ipython",
    "version": 3
   },
   "file_extension": ".py",
   "mimetype": "text/x-python",
   "name": "python",
   "nbconvert_exporter": "python",
   "pygments_lexer": "ipython3",
   "version": "3.9.12"
  },
  "orig_nbformat": 4
 },
 "nbformat": 4,
 "nbformat_minor": 2
}
